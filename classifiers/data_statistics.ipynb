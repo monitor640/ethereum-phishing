{
 "cells": [
  {
   "cell_type": "code",
   "execution_count": 1,
   "metadata": {},
   "outputs": [],
   "source": [
    "import torch"
   ]
  },
  {
   "cell_type": "code",
   "execution_count": 3,
   "metadata": {},
   "outputs": [],
   "source": [
    "data = torch.load('../data_simple_oversampled.pt', weights_only=False)"
   ]
  },
  {
   "cell_type": "code",
   "execution_count": 6,
   "metadata": {},
   "outputs": [
    {
     "name": "stdout",
     "output_type": "stream",
     "text": [
      "Number of nodes: 65736\n",
      "Number of edges: 2037947\n",
      "Number of node features: 8\n",
      "\n",
      "Class distribution:\n",
      "Class 0: 52921 nodes (80.51%)\n",
      "Class 1: 12815 nodes (19.49%)\n",
      "\n",
      "Feature matrix shape: torch.Size([65736, 8])\n",
      "\n",
      "Average degree: 62.00\n",
      "\n",
      "Graph density: 0.000943\n"
     ]
    }
   ],
   "source": [
    "# Print basic information about the dataset\n",
    "print(f\"Number of nodes: {data.num_nodes}\")\n",
    "print(f\"Number of edges: {data.edge_index.shape[1]}\")\n",
    "print(f\"Number of node features: {data.num_node_features}\")\n",
    "\n",
    "# Count labels\n",
    "y = data.y.cpu().numpy()\n",
    "num_class_0 = (y == 0).sum()\n",
    "num_class_1 = (y == 1).sum()\n",
    "\n",
    "print(\"\\nClass distribution:\")\n",
    "print(f\"Class 0: {num_class_0} nodes ({num_class_0/len(y)*100:.2f}%)\")\n",
    "print(f\"Class 1: {num_class_1} nodes ({num_class_1/len(y)*100:.2f}%)\")\n",
    "\n",
    "# Print feature information\n",
    "print(f\"\\nFeature matrix shape: {data.x.shape}\")\n",
    "\n",
    "#Print the average degree\n",
    "average_degree = (2 * data.edge_index.shape[1]) / data.num_nodes\n",
    "print(f\"\\nAverage degree: {average_degree:.2f}\")\n",
    "\n",
    "# Print edge density\n",
    "edge_density = (2 * data.edge_index.shape[1]) / (data.num_nodes * (data.num_nodes - 1))\n",
    "print(f\"\\nGraph density: {edge_density:.6f}\")\n"
   ]
  }
 ],
 "metadata": {
  "kernelspec": {
   "display_name": ".venv",
   "language": "python",
   "name": "python3"
  },
  "language_info": {
   "codemirror_mode": {
    "name": "ipython",
    "version": 3
   },
   "file_extension": ".py",
   "mimetype": "text/x-python",
   "name": "python",
   "nbconvert_exporter": "python",
   "pygments_lexer": "ipython3",
   "version": "3.10.0"
  }
 },
 "nbformat": 4,
 "nbformat_minor": 2
}
